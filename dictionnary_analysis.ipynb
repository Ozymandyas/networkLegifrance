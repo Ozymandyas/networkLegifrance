{
 "cells": [
  {
   "cell_type": "code",
   "execution_count": null,
   "metadata": {},
   "outputs": [],
   "source": [
    "import re\n",
    "import pandas as pd\n",
    "import numpy as np\n",
    "\n",
    "# it's using a dictionnary of 5000 words to find which words\n",
    "# are the most popular in 1980 and 2022 and compute increase\n",
    "liste_mots_reduced = pd.read_csv('common_words.txt', header=None, lineterminator=',')\n",
    "liste_mots_reduced.iloc[5752] = \"zones\"\n",
    "df = pd.read_json('CGI_r.json')\n",
    "content_1980_reduced = df.loc[df.year == 1980].content\n",
    "content_2022_reduced = df.loc[df.year == 2022].content\n",
    "results_reduced = []\n",
    "for mot in liste_mots_reduced[0]:\n",
    "  word_count_1980_reduced = 0\n",
    "  word_count_2022_reduced = 0\n",
    "  for article in content_1980_reduced:\n",
    "    word_count_1980_reduced += len(re.findall(mot, article, re.IGNORECASE))\n",
    "  for article in content_2022_reduced:\n",
    "    word_count_2022_reduced += len(re.findall(mot, article, re.IGNORECASE))\n",
    "    # I added + 1 because sometimes it was 0 in 1980\n",
    "  results_reduced.append([mot, word_count_1980_reduced, word_count_2022_reduced, (word_count_2022_reduced-word_count_1980_reduced)/(word_count_1980_reduced + 1)])\n",
    "df_words_reduced = pd.DataFrame(results_reduced)\n",
    "df_words_reduced"
   ]
  },
  {
   "cell_type": "code",
   "execution_count": null,
   "metadata": {},
   "outputs": [],
   "source": [
    "# to save because it's quite long to do\n",
    "df_words_reduced.to_csv(\"5000words.csv\")"
   ]
  },
  {
   "cell_type": "code",
   "execution_count": null,
   "metadata": {},
   "outputs": [],
   "source": [
    "# df_words_reduced.columns = ['mots', '1980', '2022', 'augmentation']\n",
    "# df_words_reduced.set_index('mots', inplace=True)\n",
    "df_words_reduced.sort_values(by='augmentation', ascending=False).head(50)"
   ]
  },
  {
   "cell_type": "code",
   "execution_count": null,
   "metadata": {},
   "outputs": [],
   "source": [
    "# to plot for a specified word on all years\n",
    "results_ = []\n",
    "for mot in ['audiovisuel']:\n",
    "  for year in range(1980, 2023):\n",
    "    word_count_year = 0\n",
    "    for article in df.loc[df.year == year].content:\n",
    "      word_count_year += len(re.findall(mot, article, re.IGNORECASE))\n",
    "    results_.append(word_count_year)\n",
    "results_\n",
    "pd.Series(results_, index=range(1980, 2023)).plot(title=\"apparition audiovisuel\")"
   ]
  },
  {
   "cell_type": "code",
   "execution_count": null,
   "metadata": {},
   "outputs": [],
   "source": [
    "# to get info on a specific word like \"décret\"\n",
    "df_words_reduced.loc[\"décret\"]"
   ]
  }
 ],
 "metadata": {
  "language_info": {
   "name": "python"
  },
  "orig_nbformat": 4
 },
 "nbformat": 4,
 "nbformat_minor": 2
}
